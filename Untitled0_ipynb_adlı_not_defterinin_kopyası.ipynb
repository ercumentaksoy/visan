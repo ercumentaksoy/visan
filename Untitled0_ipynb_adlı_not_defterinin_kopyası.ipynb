{
  "nbformat": 4,
  "nbformat_minor": 0,
  "metadata": {
    "colab": {
      "provenance": [],
      "toc_visible": true,
      "authorship_tag": "ABX9TyMIj0DANj7Pme+RvkT3vJMK",
      "include_colab_link": true
    },
    "kernelspec": {
      "name": "python3",
      "display_name": "Python 3"
    },
    "language_info": {
      "name": "python"
    }
  },
  "cells": [
    {
      "cell_type": "markdown",
      "metadata": {
        "id": "view-in-github",
        "colab_type": "text"
      },
      "source": [
        "<a href=\"https://colab.research.google.com/github/ercumentaksoy/visan/blob/main/Untitled0_ipynb_adl%C4%B1_not_defterinin_kopyas%C4%B1.ipynb\" target=\"_parent\"><img src=\"https://colab.research.google.com/assets/colab-badge.svg\" alt=\"Open In Colab\"/></a>"
      ]
    },
    {
      "cell_type": "code",
      "source": [
        "partiler = []"
      ],
      "metadata": {
        "id": "GKHE8nx-LJXa"
      },
      "execution_count": null,
      "outputs": []
    },
    {
      "cell_type": "markdown",
      "source": [],
      "metadata": {
        "id": "XomHs4DSxSt2"
      }
    },
    {
      "cell_type": "code",
      "source": [
        "ulke_geneli_oranlar = []"
      ],
      "metadata": {
        "id": "3qlzydJXJ0tp"
      },
      "execution_count": null,
      "outputs": []
    },
    {
      "cell_type": "code",
      "source": [
        "ilce_oy = []"
      ],
      "metadata": {
        "id": "lhgGDHRcfp0V"
      },
      "execution_count": null,
      "outputs": []
    },
    {
      "cell_type": "code",
      "source": [
        "ilce_temsilci_sayisi = []"
      ],
      "metadata": {
        "id": "SD17Z58UfhYk"
      },
      "execution_count": null,
      "outputs": []
    },
    {
      "cell_type": "code",
      "source": [
        "ittifak_bilgileri = []"
      ],
      "metadata": {
        "id": "Iz8xOuSyf4bc"
      },
      "execution_count": null,
      "outputs": []
    },
    {
      "cell_type": "code",
      "source": [
        "ortak_liste_bilgileri = []"
      ],
      "metadata": {
        "id": "HHQIeFwbf4mG"
      },
      "execution_count": null,
      "outputs": []
    },
    {
      "cell_type": "code",
      "source": [
        "partiler = input(\"Enter political party names: \").split(\",\")"
      ],
      "metadata": {
        "colab": {
          "base_uri": "https://localhost:8080/"
        },
        "id": "MjEZx87LfCY0",
        "outputId": "950e00c3-6f57-488f-976e-11d08044bb8a"
      },
      "execution_count": null,
      "outputs": [
        {
          "name": "stdout",
          "output_type": "stream",
          "text": [
            "Enter political party names: AKP,MHP,CHP,İYİ Parti,DEVA,GELECEK,Yeşil Sol Parti,TİP\n"
          ]
        }
      ]
    },
    {
      "cell_type": "code",
      "source": [
        "ulke_geneli_oranlar = input(\"Enter vote ratios across country: \").split(\",\")"
      ],
      "metadata": {
        "colab": {
          "base_uri": "https://localhost:8080/"
        },
        "id": "60nZAMcNfY0w",
        "outputId": "a53d8b42-1d24-441a-a0e6-ce3cd9b5d3b4"
      },
      "execution_count": null,
      "outputs": [
        {
          "name": "stdout",
          "output_type": "stream",
          "text": [
            "Enter vote ratios across country: 30.5,5.6,29.7,13.3,2.2,1.5,6.0,0.5\n"
          ]
        }
      ]
    },
    {
      "cell_type": "code",
      "source": [
        "ilce_oy = input(\"Enter the vote numbers in the district: \").split(\",\")"
      ],
      "metadata": {
        "colab": {
          "base_uri": "https://localhost:8080/"
        },
        "id": "9eDODAsSfd-Y",
        "outputId": "1606e662-b0a6-4b09-9c7f-ae566f197840"
      },
      "execution_count": null,
      "outputs": [
        {
          "name": "stdout",
          "output_type": "stream",
          "text": [
            "Enter the vote numbers in the district: 100000,5000,150000,30000,12000,8000,15000,7000\n"
          ]
        }
      ]
    },
    {
      "cell_type": "code",
      "source": [
        "ilce_temsilci_sayisi = input(\"Enter the number of representatives in the district: \")"
      ],
      "metadata": {
        "colab": {
          "base_uri": "https://localhost:8080/"
        },
        "id": "wW8NNoZyfkx7",
        "outputId": "69c6f13a-9b4b-4712-ec53-b362bbacf5c9"
      },
      "execution_count": null,
      "outputs": [
        {
          "name": "stdout",
          "output_type": "stream",
          "text": [
            "Enter the number of representatives in the district: 5\n"
          ]
        }
      ]
    },
    {
      "cell_type": "code",
      "source": [
        "ittifak_bilgileri = input(\"Enter alliance information: \").split(\",\")"
      ],
      "metadata": {
        "colab": {
          "base_uri": "https://localhost:8080/"
        },
        "id": "_WWUbx_VfoVJ",
        "outputId": "c7f6e6a6-f849-4c99-dca9-a61e887dc3f1"
      },
      "execution_count": null,
      "outputs": [
        {
          "name": "stdout",
          "output_type": "stream",
          "text": [
            "Enter alliance information: AKP-MHP,CHP-İYİ Parti-DEVA-GELECEK,Yeşil Sol Parti-TİP\n"
          ]
        }
      ]
    },
    {
      "cell_type": "code",
      "source": [
        "ortak_liste_bilgileri = input(\"Enter joint list information: \").split(',')"
      ],
      "metadata": {
        "colab": {
          "base_uri": "https://localhost:8080/"
        },
        "id": "qcHFkgSZf1fh",
        "outputId": "0b0d37d2-8488-4f9d-8b2c-0e7debc5fa20"
      },
      "execution_count": null,
      "outputs": [
        {
          "name": "stdout",
          "output_type": "stream",
          "text": [
            "Enter joint list information: DEVA->CHP,GELECEK->CHP\n"
          ]
        }
      ]
    },
    {
      "cell_type": "code",
      "source": [
        "# ortak liste den gireceklerin"
      ],
      "metadata": {
        "id": "gIS-Mv7Jfxji"
      },
      "execution_count": null,
      "outputs": []
    },
    {
      "cell_type": "code",
      "source": [
        "for ortaklar in ortak_liste_bilgileri:\n",
        "  ortak_parcalar = ortaklar.split('->')"
      ],
      "metadata": {
        "id": "tXAECtvsgHwN"
      },
      "execution_count": null,
      "outputs": []
    },
    {
      "cell_type": "code",
      "source": [
        "# ortak_parcalar[1] ortak olunulan"
      ],
      "metadata": {
        "id": "ZHa8PHoQjM0E"
      },
      "execution_count": null,
      "outputs": []
    },
    {
      "cell_type": "code",
      "source": [
        "# ortak_parcalar[0] ortak olan "
      ],
      "metadata": {
        "id": "DWB0H7EPjSX_"
      },
      "execution_count": null,
      "outputs": []
    },
    {
      "cell_type": "code",
      "source": [
        "ilce_oy_islemleri[partiler.index(ortak_parcalar[1])] += ilce_oy_islemleri[partiler.index(ortak_parcalar[0])]"
      ],
      "metadata": {
        "id": "-m5atA4mj9ci"
      },
      "execution_count": null,
      "outputs": []
    },
    {
      "cell_type": "code",
      "source": [
        "ilce_oy_islemleri[partiler.index(ortak_parcalar[0])] = 0"
      ],
      "metadata": {
        "id": "ZwAND0jqtL_s"
      },
      "execution_count": null,
      "outputs": []
    },
    {
      "cell_type": "code",
      "source": [
        "# Ulke geneli ittifak yapılmış ve"
      ],
      "metadata": {
        "id": "B1Jgn2GDtdVA"
      },
      "execution_count": null,
      "outputs": []
    },
    {
      "cell_type": "code",
      "source": [
        "# ittifakın toplamı 7.0 üstünde ise"
      ],
      "metadata": {
        "id": "a7rP6zYjtea-"
      },
      "execution_count": null,
      "outputs": []
    },
    {
      "cell_type": "code",
      "source": [
        "# hesaplamaya dahil olunacak"
      ],
      "metadata": {
        "id": "B1x8bKgGthka"
      },
      "execution_count": null,
      "outputs": []
    },
    {
      "cell_type": "code",
      "source": [
        "# yoksa oyu 0 olarak atanacak"
      ],
      "metadata": {
        "id": "vh4aBlw_tioJ"
      },
      "execution_count": null,
      "outputs": []
    },
    {
      "cell_type": "code",
      "source": [
        "ittifaktaMi = []"
      ],
      "metadata": {
        "id": "v6_W7e_KtlIy"
      },
      "execution_count": null,
      "outputs": []
    },
    {
      "cell_type": "code",
      "source": [
        "for ittifak in ittifaklar.split(('-')):\n",
        "    ittifak_toplam_oran += ulke_geneli_oranlar[partiler.index(ittifak)]\n",
        "    ittifaktaMi[ittifak] = True"
      ],
      "metadata": {
        "colab": {
          "base_uri": "https://localhost:8080/",
          "height": 200
        },
        "id": "sEllaHzdtwic",
        "outputId": "178c8e51-ad0a-4a4f-a090-19c816ef62cc"
      },
      "execution_count": null,
      "outputs": [
        {
          "output_type": "error",
          "ename": "ValueError",
          "evalue": "ignored",
          "traceback": [
            "\u001b[0;31m---------------------------------------------------------------------------\u001b[0m",
            "\u001b[0;31mValueError\u001b[0m                                Traceback (most recent call last)",
            "\u001b[0;32m<ipython-input-69-ccf763edac68>\u001b[0m in \u001b[0;36m<cell line: 1>\u001b[0;34m()\u001b[0m\n\u001b[1;32m      1\u001b[0m \u001b[0;32mfor\u001b[0m \u001b[0mittifak\u001b[0m \u001b[0;32min\u001b[0m \u001b[0mittifaklar\u001b[0m\u001b[0;34m.\u001b[0m\u001b[0msplit\u001b[0m\u001b[0;34m(\u001b[0m\u001b[0;34m(\u001b[0m\u001b[0;34m'-'\u001b[0m\u001b[0;34m)\u001b[0m\u001b[0;34m)\u001b[0m\u001b[0;34m:\u001b[0m\u001b[0;34m\u001b[0m\u001b[0;34m\u001b[0m\u001b[0m\n\u001b[0;32m----> 2\u001b[0;31m     \u001b[0mittifak_toplam_oran\u001b[0m \u001b[0;34m+=\u001b[0m \u001b[0mulke_geneli_oranlar\u001b[0m\u001b[0;34m[\u001b[0m\u001b[0mpartiler\u001b[0m\u001b[0;34m.\u001b[0m\u001b[0mindex\u001b[0m\u001b[0;34m(\u001b[0m\u001b[0mittifak\u001b[0m\u001b[0;34m)\u001b[0m\u001b[0;34m]\u001b[0m\u001b[0;34m\u001b[0m\u001b[0;34m\u001b[0m\u001b[0m\n\u001b[0m\u001b[1;32m      3\u001b[0m     \u001b[0mittifaktaMi\u001b[0m\u001b[0;34m[\u001b[0m\u001b[0mittifak\u001b[0m\u001b[0;34m]\u001b[0m \u001b[0;34m=\u001b[0m \u001b[0;32mTrue\u001b[0m\u001b[0;34m\u001b[0m\u001b[0;34m\u001b[0m\u001b[0m\n",
            "\u001b[0;31mValueError\u001b[0m: 'A' is not in list"
          ]
        }
      ]
    },
    {
      "cell_type": "code",
      "source": [],
      "metadata": {
        "id": "XwIBpPHPtw6R"
      },
      "execution_count": null,
      "outputs": []
    }
  ]
}